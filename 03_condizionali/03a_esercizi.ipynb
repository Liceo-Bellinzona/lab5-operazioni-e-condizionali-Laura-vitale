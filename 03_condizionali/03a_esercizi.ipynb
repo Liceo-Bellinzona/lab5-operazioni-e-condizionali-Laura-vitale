{
 "cells": [
  {
   "cell_type": "markdown",
   "metadata": {},
   "source": [
    "# Classificatore per età\n",
    "  Scrivere un programma che chieda all'utente di inserire l'età di una persona. Il programma dovrebbe visualizzare un messaggio che indica se la persona è un bebè, un bambino, un teeneger o un adulto secondo le seguenti linee guida:\n",
    "  \n",
    "- Se una persona ha 1 anno o meno, è un bebè\n",
    "- Se una persona ha più di 1 anno (ma meno o uguale a 13), è un bambino\n",
    "- Se una persona ha più di 13 anni (ma meno o uguale a 20), è un teeneger\n",
    "- Se una persona ha più di 20 anni è un adulto\n",
    "\n",
    "\n",
    "1. Preparare un diagramma di flusso, che mostri i passi necessari per raggiungere l'obiettivo\n",
    "2. Tradurre il diagramma di flusso in un codice Python\n"
   ]
  },
  {
   "cell_type": "code",
   "execution_count": 1,
   "metadata": {},
   "outputs": [
    {
     "name": "stdout",
     "output_type": "stream",
     "text": [
      "sei un bambino\n"
     ]
    }
   ],
   "source": [
    "età = int(input(\"inserire un'età\"))\n",
    "if età <= 1: \n",
    "    print (\"sei un bebè\")\n",
    "elif 1 < età <= 13:\n",
    "    print (\"sei un bambino\")\n",
    "elif 13 < età <= 20:\n",
    "    print (\"sei un teenager\")\n",
    "else :\n",
    "    print (\"sei un adulto\")\n"
   ]
  },
  {
   "cell_type": "markdown",
   "metadata": {},
   "source": [
    "# Numeri romani\n",
    "Scrivere un programma che chieda all'utente di inserire un numero nell'intervallo fra 1 e 10. Il programma dovrebbe visualizzare la versione in numeri romani di quel numero. Se il numero si trova al di fuori dell'intervallo fra 1 e 10, il programma dovrebbe visualizzare un messaggio di errore. "
   ]
  },
  {
   "cell_type": "code",
   "execution_count": 2,
   "metadata": {},
   "outputs": [
    {
     "name": "stdout",
     "output_type": "stream",
     "text": [
      "errore\n"
     ]
    }
   ],
   "source": [
    "numero = int (input(\"inserire un numero da 1 a 10\"))\n",
    "if numero == 1:\n",
    "    print(\"I\")\n",
    "elif numero == 2:\n",
    "    print(\"II\")\n",
    "elif numero == 3:\n",
    "    print(\"III\")\n",
    "elif numero == 4:\n",
    "    print (\"IV\")\n",
    "elif numero == 5:\n",
    "    print (\"V\")\n",
    "elif numero == 6:\n",
    "    print (\"VI\")\n",
    "elif numero == 7:\n",
    "    print (\"VII\")\n",
    "elif numero == 8:\n",
    "    print (\"VIII\")\n",
    "elif numero == 9:\n",
    "    print (\"IX\")\n",
    "elif numero == 10:\n",
    "    print (\"X\")\n",
    "else: numero > 10\n",
    "print (\"errore\")\n"
   ]
  },
  {
   "cell_type": "markdown",
   "metadata": {},
   "source": [
    "# Vendite software 1\n",
    "Un'azienda di software vende un pacchetto al prezzo di 99 CHF. Possono essere fatti sconti quantità secondo questa tabella:\n",
    "\n",
    "| Quantità | Sconto |\n",
    "| ---- | ---|\n",
    "| 10-19 | 10% |\n",
    "| 20-49 | 20% |\n",
    "|50-99 | 30% |\n",
    "|100 o più | 40% |\n",
    "\n",
    "\n",
    "Scrivere un programma che chieda all'utente di immettere il numero di pacchetti acquistati. Il programma dovrebbe quindi visualizzare la percentuale di sconto da applicare."
   ]
  },
  {
   "cell_type": "code",
   "execution_count": 4,
   "metadata": {},
   "outputs": [
    {
     "name": "stdout",
     "output_type": "stream",
     "text": [
      "40% di sconto\n"
     ]
    }
   ],
   "source": [
    "pacchetti = int(input(\"inserire numero di pacchetti acquistati\"))\n",
    "if 10<= pacchetti <= 19:\n",
    "    print (\"10% di sconto\")\n",
    "elif 20<= pacchetti <= 49:\n",
    "    print (\"20% di sconto\")\n",
    "elif 50<= pacchetti <= 99:\n",
    "    print (\"30% di sconto\")\n",
    "else: pacchetti > 100\n",
    "print (\"40% di sconto\")\n"
   ]
  },
  {
   "cell_type": "markdown",
   "metadata": {},
   "source": [
    "# Vendita software 2\n",
    "Modificare il programma precedente in modo da visualizzare lo sconto (se c'è) e l'ammontare totale del pagamento dopo aver applicato lo sconto."
   ]
  },
  {
   "cell_type": "code",
   "execution_count": null,
   "metadata": {},
   "outputs": [],
   "source": [
    "pacchetti = int(input(\"inserire numero di pacchetti acquistati\"))\n",
    "if 10<= pacchetti <= 19:\n",
    "    print (\"il prezzo é di 9.9 franchi\")\n",
    "elif 20<= pacchetti <= 49:\n",
    "    print (\"il prezzo é di 19.8 franchi\")\n",
    "elif 50<= pacchetti <= 99:\n",
    "    print (\"il prezzo é di 29.7 franchi\")\n",
    "else: pacchetti > 100\n",
    "print (\"40% di sconto\")\n"
   ]
  },
  {
   "cell_type": "markdown",
   "metadata": {},
   "source": [
    "# Giorni mese di febbraio\n",
    "Di solito febbraio ha 28 giorni, ma se è un anno bisestile ne ha 29. Scrivere un programma che richieda all'utente di inserire un anno. Il programma deve poi visualizzare il numero dei giorni di febbraio di quell'anno. \n",
    "Per identificare gli anni bisestili utilizzare i seguenti criteri:\n",
    "\n",
    "- Determinare se l'anno sia divisibile per 100. Se lo è, è un anno bisestile se e solo se è divisibile anche per 400. Ad esempio, 2000 è un anno bisestile, 2100 non lo è\n",
    "- Se l'anno non è divisibile per 100, è bisestile se e solo se è divisibile per 4. Ad esempio, 2008 è un anno bisestile, 2009 no\n",
    "\n",
    "Il programma va scritto in due versioni:\n",
    "1. Versione 1: utilizzando un `` if`` annidato\n",
    "2. Versione 2: utilizzando gli operatori logici ``and`` , ``or`` e ``not``"
   ]
  },
  {
   "cell_type": "code",
   "execution_count": null,
   "metadata": {},
   "outputs": [],
   "source": []
  },
  {
   "cell_type": "markdown",
   "metadata": {},
   "source": [
    "# Indice di massa corporea\n",
    "Scrivere un programma che calcoli l'indice di massa corporea (BMI, body mass index). Il BMI viene spesso utilizzato per determinare se una persona è sovrappeso o sottopeso per la sua altezza. L'indice di massa corporea viene calcolato con questa formula: $$BMI = \\frac{peso} {altezza^{2}}$$ dove ``peso`` è espresso in chilogrammi e ``altezza`` è espressa in metri. Il programma chiede all'utente di inserire il proprio peso e la propria altezza e visualizza quindi il BMI dell'utente. Il programma dovrebbe inoltre mostrare un messaggio che informi se l'utente ha un peso ottimale, se è sottopeso o se è sovrappeso. Il peso di una persona è ottimale se il BMI è fra 18.5 e 25; se il BMI è minore di 18.5 la persona è considerata sottopeso; se invece è superiore a 25 la persona è considerata sovrappeso."
   ]
  },
  {
   "cell_type": "code",
   "execution_count": null,
   "metadata": {},
   "outputs": [],
   "source": []
  },
  {
   "cell_type": "markdown",
   "metadata": {},
   "source": []
  }
 ],
 "metadata": {
  "kernelspec": {
   "display_name": "Python 3",
   "language": "python",
   "name": "python3"
  },
  "language_info": {
   "codemirror_mode": {
    "name": "ipython",
    "version": 3
   },
   "file_extension": ".py",
   "mimetype": "text/x-python",
   "name": "python",
   "nbconvert_exporter": "python",
   "pygments_lexer": "ipython3",
   "version": "3.10.13"
  }
 },
 "nbformat": 4,
 "nbformat_minor": 2
}
